{
 "cells": [
  {
   "cell_type": "markdown",
   "metadata": {},
   "source": [
    "### Importing Needed Module"
   ]
  },
  {
   "cell_type": "code",
   "execution_count": 1,
   "metadata": {},
   "outputs": [],
   "source": [
    "import pandas as pd\n",
    "import numpy as np\n",
    "import seaborn as sns\n",
    "import matplotlib.pyplot as plt\n",
    "import math\n",
    "from scipy.stats import stats \n",
    "from scipy.stats import pearsonr\n",
    "from scipy.stats.stats import pearsonr\n",
    "import statsmodels.formula.api as smf\n",
    "import statsmodels.api as sm\n",
    "from sklearn.model_selection import train_test_split\n",
    "from sklearn import metrics\n",
    "from sklearn.metrics import confusion_matrix\n",
    "from sklearn.linear_model import LogisticRegression\n",
    "from sklearn.metrics import classification_report\n",
    "from sklearn.metrics import confusion_matrix, accuracy_score, recall_score, f1_score,precision_score\n",
    "from sklearn.preprocessing import  MinMaxScaler\n",
    "from sklearn.metrics import roc_curve,auc\n",
    "from sklearn.metrics import roc_auc_score"
   ]
  },
  {
   "cell_type": "markdown",
   "metadata": {},
   "source": [
    "### Loading Dataset"
   ]
  },
  {
   "cell_type": "code",
   "execution_count": 2,
   "metadata": {},
   "outputs": [
    {
     "data": {
      "text/html": [
       "<div>\n",
       "<style scoped>\n",
       "    .dataframe tbody tr th:only-of-type {\n",
       "        vertical-align: middle;\n",
       "    }\n",
       "\n",
       "    .dataframe tbody tr th {\n",
       "        vertical-align: top;\n",
       "    }\n",
       "\n",
       "    .dataframe thead th {\n",
       "        text-align: right;\n",
       "    }\n",
       "</style>\n",
       "<table border=\"1\" class=\"dataframe\">\n",
       "  <thead>\n",
       "    <tr style=\"text-align: right;\">\n",
       "      <th></th>\n",
       "      <th>0</th>\n",
       "      <th>1</th>\n",
       "      <th>2</th>\n",
       "      <th>3</th>\n",
       "      <th>4</th>\n",
       "      <th>5</th>\n",
       "      <th>6</th>\n",
       "      <th>7</th>\n",
       "      <th>8</th>\n",
       "      <th>9</th>\n",
       "      <th>10</th>\n",
       "    </tr>\n",
       "  </thead>\n",
       "  <tbody>\n",
       "    <tr>\n",
       "      <th>0</th>\n",
       "      <td>1000025</td>\n",
       "      <td>5</td>\n",
       "      <td>1</td>\n",
       "      <td>1</td>\n",
       "      <td>1</td>\n",
       "      <td>2</td>\n",
       "      <td>1</td>\n",
       "      <td>3</td>\n",
       "      <td>1</td>\n",
       "      <td>1</td>\n",
       "      <td>2</td>\n",
       "    </tr>\n",
       "    <tr>\n",
       "      <th>1</th>\n",
       "      <td>1002945</td>\n",
       "      <td>5</td>\n",
       "      <td>4</td>\n",
       "      <td>4</td>\n",
       "      <td>5</td>\n",
       "      <td>7</td>\n",
       "      <td>10</td>\n",
       "      <td>3</td>\n",
       "      <td>2</td>\n",
       "      <td>1</td>\n",
       "      <td>2</td>\n",
       "    </tr>\n",
       "    <tr>\n",
       "      <th>2</th>\n",
       "      <td>1015425</td>\n",
       "      <td>3</td>\n",
       "      <td>1</td>\n",
       "      <td>1</td>\n",
       "      <td>1</td>\n",
       "      <td>2</td>\n",
       "      <td>2</td>\n",
       "      <td>3</td>\n",
       "      <td>1</td>\n",
       "      <td>1</td>\n",
       "      <td>2</td>\n",
       "    </tr>\n",
       "    <tr>\n",
       "      <th>3</th>\n",
       "      <td>1016277</td>\n",
       "      <td>6</td>\n",
       "      <td>8</td>\n",
       "      <td>8</td>\n",
       "      <td>1</td>\n",
       "      <td>3</td>\n",
       "      <td>4</td>\n",
       "      <td>3</td>\n",
       "      <td>7</td>\n",
       "      <td>1</td>\n",
       "      <td>2</td>\n",
       "    </tr>\n",
       "    <tr>\n",
       "      <th>4</th>\n",
       "      <td>1017023</td>\n",
       "      <td>4</td>\n",
       "      <td>1</td>\n",
       "      <td>1</td>\n",
       "      <td>3</td>\n",
       "      <td>2</td>\n",
       "      <td>1</td>\n",
       "      <td>3</td>\n",
       "      <td>1</td>\n",
       "      <td>1</td>\n",
       "      <td>2</td>\n",
       "    </tr>\n",
       "  </tbody>\n",
       "</table>\n",
       "</div>"
      ],
      "text/plain": [
       "        0   1   2   3   4   5   6   7   8   9   10\n",
       "0  1000025   5   1   1   1   2   1   3   1   1   2\n",
       "1  1002945   5   4   4   5   7  10   3   2   1   2\n",
       "2  1015425   3   1   1   1   2   2   3   1   1   2\n",
       "3  1016277   6   8   8   1   3   4   3   7   1   2\n",
       "4  1017023   4   1   1   3   2   1   3   1   1   2"
      ]
     },
     "execution_count": 2,
     "metadata": {},
     "output_type": "execute_result"
    }
   ],
   "source": [
    "#loading dataset\n",
    "cancer = pd.read_csv('cancer.data', header = None)\n",
    "cancer.head()"
   ]
  },
  {
   "cell_type": "markdown",
   "metadata": {},
   "source": [
    "### Cleaning data"
   ]
  },
  {
   "cell_type": "code",
   "execution_count": 3,
   "metadata": {},
   "outputs": [
    {
     "data": {
      "text/plain": [
       "(699, 11)"
      ]
     },
     "execution_count": 3,
     "metadata": {},
     "output_type": "execute_result"
    }
   ],
   "source": [
    "#Viewing data length\n",
    "cancer.shape"
   ]
  },
  {
   "cell_type": "code",
   "execution_count": 4,
   "metadata": {},
   "outputs": [
    {
     "name": "stdout",
     "output_type": "stream",
     "text": [
      "<class 'pandas.core.frame.DataFrame'>\n",
      "RangeIndex: 699 entries, 0 to 698\n",
      "Data columns (total 11 columns):\n",
      " #   Column  Non-Null Count  Dtype \n",
      "---  ------  --------------  ----- \n",
      " 0   0       699 non-null    int64 \n",
      " 1   1       699 non-null    int64 \n",
      " 2   2       699 non-null    int64 \n",
      " 3   3       699 non-null    int64 \n",
      " 4   4       699 non-null    int64 \n",
      " 5   5       699 non-null    int64 \n",
      " 6   6       699 non-null    object\n",
      " 7   7       699 non-null    int64 \n",
      " 8   8       699 non-null    int64 \n",
      " 9   9       699 non-null    int64 \n",
      " 10  10      699 non-null    int64 \n",
      "dtypes: int64(10), object(1)\n",
      "memory usage: 60.2+ KB\n"
     ]
    }
   ],
   "source": [
    "#Viewing data information\n",
    "cancer.info()"
   ]
  },
  {
   "cell_type": "code",
   "execution_count": 5,
   "metadata": {},
   "outputs": [
    {
     "data": {
      "text/plain": [
       "0     645\n",
       "1      10\n",
       "2      10\n",
       "3      10\n",
       "4      10\n",
       "5      10\n",
       "6      11\n",
       "7      10\n",
       "8      10\n",
       "9       9\n",
       "10      2\n",
       "dtype: int64"
      ]
     },
     "execution_count": 5,
     "metadata": {},
     "output_type": "execute_result"
    }
   ],
   "source": [
    "#checking duplicates\n",
    "cancer.nunique()"
   ]
  },
  {
   "cell_type": "code",
   "execution_count": 6,
   "metadata": {},
   "outputs": [
    {
     "data": {
      "text/html": [
       "<div>\n",
       "<style scoped>\n",
       "    .dataframe tbody tr th:only-of-type {\n",
       "        vertical-align: middle;\n",
       "    }\n",
       "\n",
       "    .dataframe tbody tr th {\n",
       "        vertical-align: top;\n",
       "    }\n",
       "\n",
       "    .dataframe thead th {\n",
       "        text-align: right;\n",
       "    }\n",
       "</style>\n",
       "<table border=\"1\" class=\"dataframe\">\n",
       "  <thead>\n",
       "    <tr style=\"text-align: right;\">\n",
       "      <th></th>\n",
       "      <th>ID</th>\n",
       "      <th>Clump Thickness</th>\n",
       "      <th>Uniformity of Cell Size</th>\n",
       "      <th>Uniformity of Cell Shape</th>\n",
       "      <th>Marginal Adhesion</th>\n",
       "      <th>Single Epithelial Cell Size</th>\n",
       "      <th>Bare Nuclei</th>\n",
       "      <th>Bland Chromatin</th>\n",
       "      <th>Normal Nucleoli</th>\n",
       "      <th>Mitoses</th>\n",
       "      <th>Class</th>\n",
       "    </tr>\n",
       "  </thead>\n",
       "  <tbody>\n",
       "    <tr>\n",
       "      <th>0</th>\n",
       "      <td>1000025</td>\n",
       "      <td>5</td>\n",
       "      <td>1</td>\n",
       "      <td>1</td>\n",
       "      <td>1</td>\n",
       "      <td>2</td>\n",
       "      <td>1</td>\n",
       "      <td>3</td>\n",
       "      <td>1</td>\n",
       "      <td>1</td>\n",
       "      <td>2</td>\n",
       "    </tr>\n",
       "  </tbody>\n",
       "</table>\n",
       "</div>"
      ],
      "text/plain": [
       "        ID  Clump Thickness  Uniformity of Cell Size  \\\n",
       "0  1000025                5                        1   \n",
       "\n",
       "   Uniformity of Cell Shape  Marginal Adhesion  Single Epithelial Cell Size  \\\n",
       "0                         1                  1                            2   \n",
       "\n",
       "  Bare Nuclei  Bland Chromatin  Normal Nucleoli  Mitoses  Class  \n",
       "0           1                3                1        1      2  "
      ]
     },
     "execution_count": 6,
     "metadata": {},
     "output_type": "execute_result"
    }
   ],
   "source": [
    "#Renaming columns\n",
    "cancer = cancer.rename(columns = {0 : \"ID\", 1 : \"Clump Thickness\", \n",
    "                                  2 : \"Uniformity of Cell Size\",\n",
    "                                  3 : \"Uniformity of Cell Shape\",\n",
    "                                  4 : \"Marginal Adhesion\",\n",
    "                                  5 : \"Single Epithelial Cell Size\",\n",
    "                                  6 : \"Bare Nuclei\", 7 : \"Bland Chromatin\",\n",
    "                                  8 : \"Normal Nucleoli\", 9 : \"Mitoses\",\n",
    "                                  10 : \"Class\"})\n",
    "cancer.head(1)"
   ]
  },
  {
   "cell_type": "code",
   "execution_count": 7,
   "metadata": {},
   "outputs": [
    {
     "data": {
      "text/plain": [
       "ID                             0\n",
       "Clump Thickness                0\n",
       "Uniformity of Cell Size        0\n",
       "Uniformity of Cell Shape       0\n",
       "Marginal Adhesion              0\n",
       "Single Epithelial Cell Size    0\n",
       "Bare Nuclei                    0\n",
       "Bland Chromatin                0\n",
       "Normal Nucleoli                0\n",
       "Mitoses                        0\n",
       "Class                          0\n",
       "dtype: int64"
      ]
     },
     "execution_count": 7,
     "metadata": {},
     "output_type": "execute_result"
    }
   ],
   "source": [
    "#Checking missing values\n",
    "cancer.isna().sum()"
   ]
  },
  {
   "cell_type": "code",
   "execution_count": 8,
   "metadata": {},
   "outputs": [],
   "source": [
    "#Dropping Id column\n",
    "cancer.drop([\"ID\"],axis = 1,inplace=True)"
   ]
  },
  {
   "cell_type": "markdown",
   "metadata": {},
   "source": [
    "* Dropping ID column because it has no features."
   ]
  },
  {
   "cell_type": "code",
   "execution_count": 9,
   "metadata": {},
   "outputs": [
    {
     "name": "stdout",
     "output_type": "stream",
     "text": [
      "The number of people with both Benign and Malignant = 699\n",
      "The number of people with Benign = 458\n",
      "The number of people with Malignant = 241\n"
     ]
    }
   ],
   "source": [
    "#Checking number of people in,benign,malignant and both\n",
    "benign = cancer[cancer.Class == 2]\n",
    "malignant = cancer[cancer.Class == 4]\n",
    "both = benign + malignant\n",
    "print(\"The number of people with both Benign and Malignant =\",len(both))\n",
    "print(\"The number of people with Benign =\",len(benign))\n",
    "print(\"The number of people with Malignant =\",len(malignant))"
   ]
  },
  {
   "cell_type": "code",
   "execution_count": 10,
   "metadata": {
    "scrolled": true
   },
   "outputs": [
    {
     "data": {
      "text/plain": [
       "1     402\n",
       "10    132\n",
       "5      30\n",
       "2      30\n",
       "3      28\n",
       "8      21\n",
       "4      19\n",
       "?      16\n",
       "9       9\n",
       "7       8\n",
       "6       4\n",
       "Name: Bare Nuclei, dtype: int64"
      ]
     },
     "execution_count": 10,
     "metadata": {},
     "output_type": "execute_result"
    }
   ],
   "source": [
    "#Checking values in Bare nuclei\n",
    "cancer[\"Bare Nuclei\"].value_counts()"
   ]
  },
  {
   "cell_type": "code",
   "execution_count": 11,
   "metadata": {},
   "outputs": [
    {
     "name": "stdout",
     "output_type": "stream",
     "text": [
      "{dtype('int64'): Index(['Clump Thickness', 'Uniformity of Cell Size',\n",
      "       'Uniformity of Cell Shape', 'Marginal Adhesion',\n",
      "       'Single Epithelial Cell Size', 'Bland Chromatin', 'Normal Nucleoli',\n",
      "       'Mitoses', 'Class'],\n",
      "      dtype='object'), dtype('O'): Index(['Bare Nuclei'], dtype='object')}\n",
      "int64     9\n",
      "object    1\n",
      "dtype: int64\n"
     ]
    }
   ],
   "source": [
    "#checking data types in columns\n",
    "print(cancer.columns.to_series().groupby(cancer.dtypes).groups)\n",
    "\n",
    "#Counting value\n",
    "print(cancer.dtypes.value_counts())"
   ]
  },
  {
   "cell_type": "code",
   "execution_count": 12,
   "metadata": {},
   "outputs": [
    {
     "data": {
      "text/plain": [
       "array([ 1, 10,  2,  4,  3,  9,  7,  5,  8,  6])"
      ]
     },
     "execution_count": 12,
     "metadata": {},
     "output_type": "execute_result"
    }
   ],
   "source": [
    "#Replacing object type value with the most frequent value/mode and converting it as an integer\n",
    "frequent = cancer[\"Bare Nuclei\"].value_counts().index[0]\n",
    "cancer[\"Bare Nuclei\"]= cancer[\"Bare Nuclei\"].replace(\"?\", frequent).astype(\"int64\")\n",
    "cancer[\"Bare Nuclei\"].unique()"
   ]
  },
  {
   "cell_type": "code",
   "execution_count": 13,
   "metadata": {},
   "outputs": [
    {
     "data": {
      "text/plain": [
       "Clump Thickness                int64\n",
       "Uniformity of Cell Size        int64\n",
       "Uniformity of Cell Shape       int64\n",
       "Marginal Adhesion              int64\n",
       "Single Epithelial Cell Size    int64\n",
       "Bare Nuclei                    int64\n",
       "Bland Chromatin                int64\n",
       "Normal Nucleoli                int64\n",
       "Mitoses                        int64\n",
       "Class                          int64\n",
       "dtype: object"
      ]
     },
     "execution_count": 13,
     "metadata": {},
     "output_type": "execute_result"
    }
   ],
   "source": [
    "#Checking if all columns are integers\n",
    "cancer.dtypes"
   ]
  },
  {
   "cell_type": "markdown",
   "metadata": {},
   "source": [
    "* From the information above we can see that our Bare Nuclei column is concverted from string/onject to an integer. "
   ]
  },
  {
   "cell_type": "markdown",
   "metadata": {},
   "source": [
    "### EDA"
   ]
  },
  {
   "cell_type": "code",
   "execution_count": 14,
   "metadata": {},
   "outputs": [
    {
     "data": {
      "text/html": [
       "<div>\n",
       "<style scoped>\n",
       "    .dataframe tbody tr th:only-of-type {\n",
       "        vertical-align: middle;\n",
       "    }\n",
       "\n",
       "    .dataframe tbody tr th {\n",
       "        vertical-align: top;\n",
       "    }\n",
       "\n",
       "    .dataframe thead th {\n",
       "        text-align: right;\n",
       "    }\n",
       "</style>\n",
       "<table border=\"1\" class=\"dataframe\">\n",
       "  <thead>\n",
       "    <tr style=\"text-align: right;\">\n",
       "      <th></th>\n",
       "      <th>count</th>\n",
       "      <th>mean</th>\n",
       "      <th>std</th>\n",
       "      <th>min</th>\n",
       "      <th>25%</th>\n",
       "      <th>50%</th>\n",
       "      <th>75%</th>\n",
       "      <th>max</th>\n",
       "    </tr>\n",
       "  </thead>\n",
       "  <tbody>\n",
       "    <tr>\n",
       "      <th>Clump Thickness</th>\n",
       "      <td>699.0</td>\n",
       "      <td>4.417740</td>\n",
       "      <td>2.815741</td>\n",
       "      <td>1.0</td>\n",
       "      <td>2.0</td>\n",
       "      <td>4.0</td>\n",
       "      <td>6.0</td>\n",
       "      <td>10.0</td>\n",
       "    </tr>\n",
       "    <tr>\n",
       "      <th>Uniformity of Cell Size</th>\n",
       "      <td>699.0</td>\n",
       "      <td>3.134478</td>\n",
       "      <td>3.051459</td>\n",
       "      <td>1.0</td>\n",
       "      <td>1.0</td>\n",
       "      <td>1.0</td>\n",
       "      <td>5.0</td>\n",
       "      <td>10.0</td>\n",
       "    </tr>\n",
       "    <tr>\n",
       "      <th>Uniformity of Cell Shape</th>\n",
       "      <td>699.0</td>\n",
       "      <td>3.207439</td>\n",
       "      <td>2.971913</td>\n",
       "      <td>1.0</td>\n",
       "      <td>1.0</td>\n",
       "      <td>1.0</td>\n",
       "      <td>5.0</td>\n",
       "      <td>10.0</td>\n",
       "    </tr>\n",
       "    <tr>\n",
       "      <th>Marginal Adhesion</th>\n",
       "      <td>699.0</td>\n",
       "      <td>2.806867</td>\n",
       "      <td>2.855379</td>\n",
       "      <td>1.0</td>\n",
       "      <td>1.0</td>\n",
       "      <td>1.0</td>\n",
       "      <td>4.0</td>\n",
       "      <td>10.0</td>\n",
       "    </tr>\n",
       "    <tr>\n",
       "      <th>Single Epithelial Cell Size</th>\n",
       "      <td>699.0</td>\n",
       "      <td>3.216023</td>\n",
       "      <td>2.214300</td>\n",
       "      <td>1.0</td>\n",
       "      <td>2.0</td>\n",
       "      <td>2.0</td>\n",
       "      <td>4.0</td>\n",
       "      <td>10.0</td>\n",
       "    </tr>\n",
       "    <tr>\n",
       "      <th>Bare Nuclei</th>\n",
       "      <td>699.0</td>\n",
       "      <td>3.486409</td>\n",
       "      <td>3.621929</td>\n",
       "      <td>1.0</td>\n",
       "      <td>1.0</td>\n",
       "      <td>1.0</td>\n",
       "      <td>5.0</td>\n",
       "      <td>10.0</td>\n",
       "    </tr>\n",
       "    <tr>\n",
       "      <th>Bland Chromatin</th>\n",
       "      <td>699.0</td>\n",
       "      <td>3.437768</td>\n",
       "      <td>2.438364</td>\n",
       "      <td>1.0</td>\n",
       "      <td>2.0</td>\n",
       "      <td>3.0</td>\n",
       "      <td>5.0</td>\n",
       "      <td>10.0</td>\n",
       "    </tr>\n",
       "    <tr>\n",
       "      <th>Normal Nucleoli</th>\n",
       "      <td>699.0</td>\n",
       "      <td>2.866953</td>\n",
       "      <td>3.053634</td>\n",
       "      <td>1.0</td>\n",
       "      <td>1.0</td>\n",
       "      <td>1.0</td>\n",
       "      <td>4.0</td>\n",
       "      <td>10.0</td>\n",
       "    </tr>\n",
       "    <tr>\n",
       "      <th>Mitoses</th>\n",
       "      <td>699.0</td>\n",
       "      <td>1.589413</td>\n",
       "      <td>1.715078</td>\n",
       "      <td>1.0</td>\n",
       "      <td>1.0</td>\n",
       "      <td>1.0</td>\n",
       "      <td>1.0</td>\n",
       "      <td>10.0</td>\n",
       "    </tr>\n",
       "    <tr>\n",
       "      <th>Class</th>\n",
       "      <td>699.0</td>\n",
       "      <td>2.689557</td>\n",
       "      <td>0.951273</td>\n",
       "      <td>2.0</td>\n",
       "      <td>2.0</td>\n",
       "      <td>2.0</td>\n",
       "      <td>4.0</td>\n",
       "      <td>4.0</td>\n",
       "    </tr>\n",
       "  </tbody>\n",
       "</table>\n",
       "</div>"
      ],
      "text/plain": [
       "                             count      mean       std  min  25%  50%  75%  \\\n",
       "Clump Thickness              699.0  4.417740  2.815741  1.0  2.0  4.0  6.0   \n",
       "Uniformity of Cell Size      699.0  3.134478  3.051459  1.0  1.0  1.0  5.0   \n",
       "Uniformity of Cell Shape     699.0  3.207439  2.971913  1.0  1.0  1.0  5.0   \n",
       "Marginal Adhesion            699.0  2.806867  2.855379  1.0  1.0  1.0  4.0   \n",
       "Single Epithelial Cell Size  699.0  3.216023  2.214300  1.0  2.0  2.0  4.0   \n",
       "Bare Nuclei                  699.0  3.486409  3.621929  1.0  1.0  1.0  5.0   \n",
       "Bland Chromatin              699.0  3.437768  2.438364  1.0  2.0  3.0  5.0   \n",
       "Normal Nucleoli              699.0  2.866953  3.053634  1.0  1.0  1.0  4.0   \n",
       "Mitoses                      699.0  1.589413  1.715078  1.0  1.0  1.0  1.0   \n",
       "Class                        699.0  2.689557  0.951273  2.0  2.0  2.0  4.0   \n",
       "\n",
       "                              max  \n",
       "Clump Thickness              10.0  \n",
       "Uniformity of Cell Size      10.0  \n",
       "Uniformity of Cell Shape     10.0  \n",
       "Marginal Adhesion            10.0  \n",
       "Single Epithelial Cell Size  10.0  \n",
       "Bare Nuclei                  10.0  \n",
       "Bland Chromatin              10.0  \n",
       "Normal Nucleoli              10.0  \n",
       "Mitoses                      10.0  \n",
       "Class                         4.0  "
      ]
     },
     "execution_count": 14,
     "metadata": {},
     "output_type": "execute_result"
    }
   ],
   "source": [
    "#checking statistical summary\n",
    "cancer.describe().T"
   ]
  },
  {
   "cell_type": "code",
   "execution_count": 15,
   "metadata": {},
   "outputs": [
    {
     "data": {
      "image/png": "[encoded data removed]",
      "text/plain": [
       "<Figure size 720x720 with 12 Axes>"
      ]
     },
     "metadata": {
      "needs_background": "light"
     },
     "output_type": "display_data"
    }
   ],
   "source": [
    "#Plotting a histogram\n",
    "cancer.hist(figsize =(10, 10), color = \"indigo\")\n",
    "_ = plt.show()"
   ]
  },
  {
   "cell_type": "markdown",
   "metadata": {},
   "source": [
    "* Looking at our histrograms we can see that all graphs are rightly skewed meaning there is a positive distribution."
   ]
  },
  {
   "cell_type": "code",
   "execution_count": 16,
   "metadata": {},
   "outputs": [
    {
     "data": {
      "text/plain": [
       "Mitoses                        0.423170\n",
       "Single Epithelial Cell Size    0.682785\n",
       "Marginal Adhesion              0.696800\n",
       "Normal Nucleoli                0.712244\n",
       "Clump Thickness                0.716001\n",
       "Bland Chromatin                0.756616\n",
       "Uniformity of Cell Size        0.817904\n",
       "Uniformity of Cell Shape       0.818934\n",
       "Bare Nuclei                    0.818968\n",
       "Class                          1.000000\n",
       "Name: Class, dtype: float64"
      ]
     },
     "execution_count": 16,
     "metadata": {},
     "output_type": "execute_result"
    }
   ],
   "source": [
    "#Viewing the correlation\n",
    "cancer.corr()[\"Class\"].sort_values(ascending = True)"
   ]
  },
  {
   "cell_type": "markdown",
   "metadata": {},
   "source": [
    "* Mitoses as a moderate positive relationship to with Class,the correlation is more than 0 but less than 0.5 or 50%.\n",
    "* While other variables have a strong positive relation with class."
   ]
  },
  {
   "cell_type": "code",
   "execution_count": 17,
   "metadata": {},
   "outputs": [
    {
     "data": {
      "image/png": "[encoded data removed]",
      "text/plain": [
       "<Figure size 576x576 with 2 Axes>"
      ]
     },
     "metadata": {
      "needs_background": "light"
     },
     "output_type": "display_data"
    }
   ],
   "source": [
    "#Plotting a heatmap to view correlation\n",
    "plt.figure(figsize=(8,8))\n",
    "_= sns.heatmap(cancer.corr(), annot=True, linewidth=0.1)\n"
   ]
  },
  {
   "cell_type": "code",
   "execution_count": 18,
   "metadata": {},
   "outputs": [],
   "source": [
    "cancer[\"Class\"] = cancer[\"Class\"].replace([2,4],[\"Good\",\"Bad\"])"
   ]
  },
  {
   "cell_type": "markdown",
   "metadata": {},
   "source": [
    "* The value 2 is now represented by Good and this is for benign.\n",
    "* The value 4 now represented by Bad and this is for malignant."
   ]
  },
  {
   "cell_type": "code",
   "execution_count": 19,
   "metadata": {},
   "outputs": [
    {
     "data": {
      "text/plain": [
       "<Figure size 576x432 with 0 Axes>"
      ]
     },
     "metadata": {},
     "output_type": "display_data"
    },
    {
     "data": {
      "image/png": "[encoded data removed]",
      "text/plain": [
       "<Figure size 360x360 with 1 Axes>"
      ]
     },
     "metadata": {
      "needs_background": "light"
     },
     "output_type": "display_data"
    }
   ],
   "source": [
    "plt.figure(figsize = (8, 6))\n",
    "sns.catplot(x = \"Class\", kind = \"count\",\n",
    "                 data = cancer)\n",
    "_ = plt.title(\"Good Vs Bad\")"
   ]
  },
  {
   "cell_type": "markdown",
   "metadata": {},
   "source": [
    "* From the above plot we can see that benign has more counts than malignant.\n",
    "* Our count plot represents our original dataset and we also have more people with behing which is also good."
   ]
  },
  {
   "cell_type": "code",
   "execution_count": 20,
   "metadata": {},
   "outputs": [],
   "source": [
    "cancer[\"Class\"] = cancer[\"Class\"].replace([\"Good\",\"Bad\"],[0,1])"
   ]
  },
  {
   "cell_type": "markdown",
   "metadata": {},
   "source": [
    "* Good is now represented by the value 0 and this is for benign.\n",
    "* Bad now represented by the value 1 and this is for malignant.\n",
    "* This is because our logistic regression model can't take anything less than 0 or more than 1."
   ]
  },
  {
   "cell_type": "markdown",
   "metadata": {},
   "source": [
    "#### Splitting Datasets"
   ]
  },
  {
   "cell_type": "code",
   "execution_count": 21,
   "metadata": {},
   "outputs": [
    {
     "name": "stdout",
     "output_type": "stream",
     "text": [
      "(489, 9) (489,) (210, 9) (210,)\n"
     ]
    }
   ],
   "source": [
    "#Creating targets\n",
    "X = cancer.drop(\"Class\", axis =1 )\n",
    "y = cancer[\"Class\"]\n",
    "\n",
    "#Splittin dataset\n",
    "X_train,X_test,y_train,y_test = train_test_split(X,y,test_size = 0.3, random_state = 45)\n",
    "\n",
    "#Viewing Test and train lengths\n",
    "print(X_train.shape,y_train.shape,X_test.shape,y_test.shape)"
   ]
  },
  {
   "cell_type": "markdown",
   "metadata": {},
   "source": [
    "### Fitting a logistic regression model to the train set and testing statistical significance\n",
    "#### Hypothesis Testing\n",
    "\n",
    "* Null hypthesis : The features of images have no significant effect on breast cancer(malignant cancer). \n",
    "\n",
    "* Alternative Hypothesis : The features of images have a significant effect on breast cancer(malignant cancer)."
   ]
  },
  {
   "cell_type": "code",
   "execution_count": 22,
   "metadata": {},
   "outputs": [],
   "source": [
    "# create logistic regression object \n",
    "reg = LogisticRegression() \n",
    "   \n",
    "# train the model using the training sets \n",
    "reg.fit(X_train, y_train) \n",
    "  \n",
    "# making predictions on the testing set \n",
    "y_predict = reg.predict(X_train) "
   ]
  },
  {
   "cell_type": "code",
   "execution_count": 23,
   "metadata": {},
   "outputs": [
    {
     "name": "stdout",
     "output_type": "stream",
     "text": [
      "Optimization terminated successfully.\n",
      "         Current function value: 0.379344\n",
      "         Iterations 8\n"
     ]
    },
    {
     "data": {
      "text/html": [
       "<table class=\"simpletable\">\n",
       "<caption>Logit Regression Results</caption>\n",
       "<tr>\n",
       "  <th>Dep. Variable:</th>         <td>Class</td>      <th>  No. Observations:  </th>  <td>   489</td>  \n",
       "</tr>\n",
       "<tr>\n",
       "  <th>Model:</th>                 <td>Logit</td>      <th>  Df Residuals:      </th>  <td>   480</td>  \n",
       "</tr>\n",
       "<tr>\n",
       "  <th>Method:</th>                 <td>MLE</td>       <th>  Df Model:          </th>  <td>     8</td>  \n",
       "</tr>\n",
       "<tr>\n",
       "  <th>Date:</th>            <td>Thu, 02 Jul 2020</td> <th>  Pseudo R-squ.:     </th>  <td>0.4139</td>  \n",
       "</tr>\n",
       "<tr>\n",
       "  <th>Time:</th>                <td>22:46:42</td>     <th>  Log-Likelihood:    </th> <td> -185.50</td> \n",
       "</tr>\n",
       "<tr>\n",
       "  <th>converged:</th>             <td>True</td>       <th>  LL-Null:           </th> <td> -316.51</td> \n",
       "</tr>\n",
       "<tr>\n",
       "  <th>Covariance Type:</th>     <td>nonrobust</td>    <th>  LLR p-value:       </th> <td>4.867e-52</td>\n",
       "</tr>\n",
       "</table>\n",
       "<table class=\"simpletable\">\n",
       "<tr>\n",
       "               <td></td>                  <th>coef</th>     <th>std err</th>      <th>z</th>      <th>P>|z|</th>  <th>[0.025</th>    <th>0.975]</th>  \n",
       "</tr>\n",
       "<tr>\n",
       "  <th>Clump Thickness</th>             <td>   -0.3820</td> <td>    0.072</td> <td>   -5.322</td> <td> 0.000</td> <td>   -0.523</td> <td>   -0.241</td>\n",
       "</tr>\n",
       "<tr>\n",
       "  <th>Uniformity of Cell Size</th>     <td>    1.0040</td> <td>    0.150</td> <td>    6.677</td> <td> 0.000</td> <td>    0.709</td> <td>    1.299</td>\n",
       "</tr>\n",
       "<tr>\n",
       "  <th>Uniformity of Cell Shape</th>    <td>    0.1680</td> <td>    0.117</td> <td>    1.435</td> <td> 0.151</td> <td>   -0.061</td> <td>    0.397</td>\n",
       "</tr>\n",
       "<tr>\n",
       "  <th>Marginal Adhesion</th>           <td>    0.1527</td> <td>    0.081</td> <td>    1.876</td> <td> 0.061</td> <td>   -0.007</td> <td>    0.312</td>\n",
       "</tr>\n",
       "<tr>\n",
       "  <th>Single Epithelial Cell Size</th> <td>   -0.8627</td> <td>    0.119</td> <td>   -7.271</td> <td> 0.000</td> <td>   -1.095</td> <td>   -0.630</td>\n",
       "</tr>\n",
       "<tr>\n",
       "  <th>Bare Nuclei</th>                 <td>    0.5518</td> <td>    0.075</td> <td>    7.318</td> <td> 0.000</td> <td>    0.404</td> <td>    0.700</td>\n",
       "</tr>\n",
       "<tr>\n",
       "  <th>Bland Chromatin</th>             <td>   -0.4864</td> <td>    0.103</td> <td>   -4.740</td> <td> 0.000</td> <td>   -0.688</td> <td>   -0.285</td>\n",
       "</tr>\n",
       "<tr>\n",
       "  <th>Normal Nucleoli</th>             <td>    0.2507</td> <td>    0.082</td> <td>    3.058</td> <td> 0.002</td> <td>    0.090</td> <td>    0.411</td>\n",
       "</tr>\n",
       "<tr>\n",
       "  <th>Mitoses</th>                     <td>   -0.1325</td> <td>    0.093</td> <td>   -1.423</td> <td> 0.155</td> <td>   -0.315</td> <td>    0.050</td>\n",
       "</tr>\n",
       "</table>"
      ],
      "text/plain": [
       "<class 'statsmodels.iolib.summary.Summary'>\n",
       "\"\"\"\n",
       "                           Logit Regression Results                           \n",
       "==============================================================================\n",
       "Dep. Variable:                  Class   No. Observations:                  489\n",
       "Model:                          Logit   Df Residuals:                      480\n",
       "Method:                           MLE   Df Model:                            8\n",
       "Date:                Thu, 02 Jul 2020   Pseudo R-squ.:                  0.4139\n",
       "Time:                        22:46:42   Log-Likelihood:                -185.50\n",
       "converged:                       True   LL-Null:                       -316.51\n",
       "Covariance Type:            nonrobust   LLR p-value:                 4.867e-52\n",
       "===============================================================================================\n",
       "                                  coef    std err          z      P>|z|      [0.025      0.975]\n",
       "-----------------------------------------------------------------------------------------------\n",
       "Clump Thickness                -0.3820      0.072     -5.322      0.000      -0.523      -0.241\n",
       "Uniformity of Cell Size         1.0040      0.150      6.677      0.000       0.709       1.299\n",
       "Uniformity of Cell Shape        0.1680      0.117      1.435      0.151      -0.061       0.397\n",
       "Marginal Adhesion               0.1527      0.081      1.876      0.061      -0.007       0.312\n",
       "Single Epithelial Cell Size    -0.8627      0.119     -7.271      0.000      -1.095      -0.630\n",
       "Bare Nuclei                     0.5518      0.075      7.318      0.000       0.404       0.700\n",
       "Bland Chromatin                -0.4864      0.103     -4.740      0.000      -0.688      -0.285\n",
       "Normal Nucleoli                 0.2507      0.082      3.058      0.002       0.090       0.411\n",
       "Mitoses                        -0.1325      0.093     -1.423      0.155      -0.315       0.050\n",
       "===============================================================================================\n",
       "\"\"\""
      ]
     },
     "execution_count": 23,
     "metadata": {},
     "output_type": "execute_result"
    }
   ],
   "source": [
    "#finding or viewing model summary\n",
    "log_reg = sm.Logit(y_train.astype(\"int64\"), X_train.astype(\"int64\"))\n",
    "model = log_reg.fit()\n",
    "model.summary()"
   ]
  },
  {
   "cell_type": "markdown",
   "metadata": {},
   "source": [
    "* Uniformity of Cell Size,Marginal Adhesion and Mitoses have p-values that are more than 0.05 meaning I will have to drop them.\n",
    "* The pvalues above prove that there is signifance in the impact of the three variables towards predicting malignant cancer.\n",
    "* Therefore we reject the null hypothesis."
   ]
  },
  {
   "cell_type": "code",
   "execution_count": 24,
   "metadata": {},
   "outputs": [
    {
     "name": "stdout",
     "output_type": "stream",
     "text": [
      "Optimization terminated successfully.\n",
      "         Current function value: 0.337597\n",
      "         Iterations 9\n"
     ]
    },
    {
     "data": {
      "text/html": [
       "<table class=\"simpletable\">\n",
       "<caption>Logit Regression Results</caption>\n",
       "<tr>\n",
       "  <th>Dep. Variable:</th>         <td>Class</td>      <th>  No. Observations:  </th>  <td>   210</td>  \n",
       "</tr>\n",
       "<tr>\n",
       "  <th>Model:</th>                 <td>Logit</td>      <th>  Df Residuals:      </th>  <td>   204</td>  \n",
       "</tr>\n",
       "<tr>\n",
       "  <th>Method:</th>                 <td>MLE</td>       <th>  Df Model:          </th>  <td>     5</td>  \n",
       "</tr>\n",
       "<tr>\n",
       "  <th>Date:</th>            <td>Thu, 02 Jul 2020</td> <th>  Pseudo R-squ.:     </th>  <td>0.4696</td>  \n",
       "</tr>\n",
       "<tr>\n",
       "  <th>Time:</th>                <td>22:46:42</td>     <th>  Log-Likelihood:    </th> <td> -70.895</td> \n",
       "</tr>\n",
       "<tr>\n",
       "  <th>converged:</th>             <td>True</td>       <th>  LL-Null:           </th> <td> -133.67</td> \n",
       "</tr>\n",
       "<tr>\n",
       "  <th>Covariance Type:</th>     <td>nonrobust</td>    <th>  LLR p-value:       </th> <td>2.097e-25</td>\n",
       "</tr>\n",
       "</table>\n",
       "<table class=\"simpletable\">\n",
       "<tr>\n",
       "   <td></td>     <th>coef</th>     <th>std err</th>      <th>z</th>      <th>P>|z|</th>  <th>[0.025</th>    <th>0.975]</th>  \n",
       "</tr>\n",
       "<tr>\n",
       "  <th>x1</th> <td>   -3.1075</td> <td>    1.003</td> <td>   -3.098</td> <td> 0.002</td> <td>   -5.073</td> <td>   -1.142</td>\n",
       "</tr>\n",
       "<tr>\n",
       "  <th>x2</th> <td>    9.9304</td> <td>    2.456</td> <td>    4.043</td> <td> 0.000</td> <td>    5.116</td> <td>   14.745</td>\n",
       "</tr>\n",
       "<tr>\n",
       "  <th>x3</th> <td>   -7.2185</td> <td>    2.273</td> <td>   -3.176</td> <td> 0.001</td> <td>  -11.673</td> <td>   -2.764</td>\n",
       "</tr>\n",
       "<tr>\n",
       "  <th>x4</th> <td>    6.5285</td> <td>    1.422</td> <td>    4.591</td> <td> 0.000</td> <td>    3.741</td> <td>    9.316</td>\n",
       "</tr>\n",
       "<tr>\n",
       "  <th>x5</th> <td>   -3.9674</td> <td>    1.692</td> <td>   -2.345</td> <td> 0.019</td> <td>   -7.283</td> <td>   -0.652</td>\n",
       "</tr>\n",
       "<tr>\n",
       "  <th>x6</th> <td>    5.7900</td> <td>    1.642</td> <td>    3.527</td> <td> 0.000</td> <td>    2.573</td> <td>    9.007</td>\n",
       "</tr>\n",
       "</table>"
      ],
      "text/plain": [
       "<class 'statsmodels.iolib.summary.Summary'>\n",
       "\"\"\"\n",
       "                           Logit Regression Results                           \n",
       "==============================================================================\n",
       "Dep. Variable:                  Class   No. Observations:                  210\n",
       "Model:                          Logit   Df Residuals:                      204\n",
       "Method:                           MLE   Df Model:                            5\n",
       "Date:                Thu, 02 Jul 2020   Pseudo R-squ.:                  0.4696\n",
       "Time:                        22:46:42   Log-Likelihood:                -70.895\n",
       "converged:                       True   LL-Null:                       -133.67\n",
       "Covariance Type:            nonrobust   LLR p-value:                 2.097e-25\n",
       "==============================================================================\n",
       "                 coef    std err          z      P>|z|      [0.025      0.975]\n",
       "------------------------------------------------------------------------------\n",
       "x1            -3.1075      1.003     -3.098      0.002      -5.073      -1.142\n",
       "x2             9.9304      2.456      4.043      0.000       5.116      14.745\n",
       "x3            -7.2185      2.273     -3.176      0.001     -11.673      -2.764\n",
       "x4             6.5285      1.422      4.591      0.000       3.741       9.316\n",
       "x5            -3.9674      1.692     -2.345      0.019      -7.283      -0.652\n",
       "x6             5.7900      1.642      3.527      0.000       2.573       9.007\n",
       "==============================================================================\n",
       "\"\"\""
      ]
     },
     "execution_count": 24,
     "metadata": {},
     "output_type": "execute_result"
    }
   ],
   "source": [
    "Xtrain = X_train.drop([\"Uniformity of Cell Size\",\n",
    "                     \"Marginal Adhesion\",\"Mitoses\"], axis = 1)\n",
    "Xtest= X_test.drop([\"Uniformity of Cell Size\",\n",
    "                     \"Marginal Adhesion\",\"Mitoses\"], axis = 1)\n",
    "\n",
    "\n",
    "log_scaled = LogisticRegression()\n",
    "log_scaled.fit(Xtest, y_test)\n",
    "y_pred = log_scaled.predict(Xtest)\n",
    "# Using MinMaxScaler to rescale X_train and X_test\n",
    "scaled = MinMaxScaler()\n",
    "Xtrain = scaled.fit_transform(Xtrain)\n",
    "Xtest= scaled.fit_transform(Xtest)\n",
    "\n",
    "# Veiwing rescaled model summary\n",
    "scaled_reg = sm.Logit(y_test, Xtest)\n",
    "scaled_model = scaled_reg.fit()\n",
    "scaled_model.summary()"
   ]
  },
  {
   "cell_type": "markdown",
   "metadata": {},
   "source": [
    "### Creating a classification report"
   ]
  },
  {
   "cell_type": "code",
   "execution_count": 25,
   "metadata": {},
   "outputs": [
    {
     "name": "stdout",
     "output_type": "stream",
     "text": [
      "\n",
      "The Train dataset-------------------------------------------\n",
      "              precision    recall  f1-score   support\n",
      "\n",
      "           0       0.97      0.97      0.97       318\n",
      "           1       0.94      0.95      0.95       171\n",
      "\n",
      "    accuracy                           0.96       489\n",
      "   macro avg       0.96      0.96      0.96       489\n",
      "weighted avg       0.96      0.96      0.96       489\n",
      "\n",
      "\n",
      "The Test dataset-------------------------------------------\n",
      "              precision    recall  f1-score   support\n",
      "\n",
      "           0       1.00      1.00      1.00       140\n",
      "           1       1.00      1.00      1.00        70\n",
      "\n",
      "    accuracy                           1.00       210\n",
      "   macro avg       1.00      1.00      1.00       210\n",
      "weighted avg       1.00      1.00      1.00       210\n",
      "\n"
     ]
    }
   ],
   "source": [
    "print(\"\\nThe Train dataset-------------------------------------------\")\n",
    "print(classification_report(y_train, y_predict))\n",
    "print(\"\\nThe Test dataset-------------------------------------------\")\n",
    "print(classification_report(y_test, y_pred))\n"
   ]
  },
  {
   "cell_type": "markdown",
   "metadata": {},
   "source": [
    "### Creating a confussion matrix"
   ]
  },
  {
   "cell_type": "code",
   "execution_count": 32,
   "metadata": {},
   "outputs": [
    {
     "name": "stdout",
     "output_type": "stream",
     "text": [
      "[[140   0]\n",
      " [  0  70]]\n",
      "Precision for test dataset = 1.0\n",
      "Precision for train dataset = 0.9532163742690059\n",
      "Accuracy for test dataset = 1.0\n",
      "Accuracy for train dataset = 0.9631901840490797\n",
      "Recall for test dataset = 1.0\n",
      "Recall for train dataset = 0.9421965317919075\n",
      "F1 score for test dataset = 1.0\n",
      "F1 score for train dataset= 0.9476744186046512\n"
     ]
    }
   ],
   "source": [
    "#confusion matrix\n",
    "print('\\nConfussion Matrix on testing data set')\n",
    "print(confusion_matrix(y_pred, y_test))\n",
    "print('\\nConfussion Matrix on traininging data set')\n",
    "print(confusion_matrix(y_predict, y_train))\n",
    "print(f\"Precision for test dataset = {precision_score(y_pred, y_test)}\")\n",
    "print(f\"Precision for train dataset = {precision_score(y_predict, y_train)}\")\n",
    "print(f\"Accuracy for test dataset = {accuracy_score(y_pred, y_test)}\")\n",
    "print(f\"Accuracy for train dataset = {accuracy_score(y_predict, y_train)}\")\n",
    "print(f\"Recall for test dataset = {recall_score( y_pred, y_test)}\")\n",
    "print(f\"Recall for train dataset = {recall_score( y_predict, y_train)}\")\n",
    "print(f\"F1 score for test dataset = {f1_score( y_pred, y_test)}\")\n",
    "print(f\"F1 score for train dataset= {f1_score( y_predict, y_train)}\")"
   ]
  },
  {
   "cell_type": "code",
   "execution_count": 29,
   "metadata": {},
   "outputs": [
    {
     "data": {
      "image/png": "[encoded data removed]",
      "text/plain": [
       "<Figure size 432x288 with 1 Axes>"
      ]
     },
     "metadata": {
      "needs_background": "light"
     },
     "output_type": "display_data"
    }
   ],
   "source": [
    "matrix = confusion_matrix(y_test, y_pred)\n",
    "\n",
    "sns.heatmap(matrix, square=True, annot=True, cbar=False)\n",
    "plt.title(\"A confusion matrix plot for the testing dataset\")\n",
    "plt.xlabel(\"predicted value\")\n",
    "plt.ylabel(\"true value\");"
   ]
  },
  {
   "cell_type": "code",
   "execution_count": 33,
   "metadata": {},
   "outputs": [
    {
     "data": {
      "image/png": "[encoded data removed]",
      "text/plain": [
       "<Figure size 432x288 with 1 Axes>"
      ]
     },
     "metadata": {
      "needs_background": "light"
     },
     "output_type": "display_data"
    }
   ],
   "source": [
    "mat = confusion_matrix(y_train, y_predict)\n",
    "\n",
    "sns.heatmap(mat, square=True, annot=True, cbar=False)\n",
    "plt.title(\"A confusion matrix plot for the training dataset\")\n",
    "plt.xlabel(\"predicted value\")\n",
    "plt.ylabel(\"true value\");"
   ]
  },
  {
   "cell_type": "code",
   "execution_count": 34,
   "metadata": {},
   "outputs": [],
   "source": [
    "scores = log_scaled.decision_function(Xtest)\n",
    "fpr, tpr, thresholds = roc_curve(y_test, scores)"
   ]
  },
  {
   "cell_type": "code",
   "execution_count": 35,
   "metadata": {},
   "outputs": [
    {
     "data": {
      "image/png": "[encoded data removed]",
      "text/plain": [
       "<Figure size 432x288 with 1 Axes>"
      ]
     },
     "metadata": {
      "needs_background": "light"
     },
     "output_type": "display_data"
    }
   ],
   "source": [
    "plt.plot(fpr, tpr, color='green', label='ROC')\n",
    "plt.plot([0, 1], [0, 1], color='purple', linestyle='--')\n",
    "plt.xlabel('False Positive Rate')\n",
    "plt.ylabel('True Positive Rate')\n",
    "plt.title('Receiver Operating Characteristic (ROC) Curve')\n",
    "plt.legend()\n",
    "plt.show()\n"
   ]
  },
  {
   "cell_type": "code",
   "execution_count": null,
   "metadata": {},
   "outputs": [],
   "source": []
  }
 ],
 "metadata": {
  "kernelspec": {
   "display_name": "Python 3",
   "language": "python",
   "name": "python3"
  },
  "language_info": {
   "codemirror_mode": {
    "name": "ipython",
    "version": 3
   },
   "file_extension": ".py",
   "mimetype": "text/x-python",
   "name": "python",
   "nbconvert_exporter": "python",
   "pygments_lexer": "ipython3",
   "version": "3.6.9"
  }
 },
 "nbformat": 4,
 "nbformat_minor": 4
}
